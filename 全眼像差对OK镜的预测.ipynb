{
 "cells": [
  {
   "cell_type": "markdown",
   "metadata": {},
   "source": [
    "# 假设\n",
    "\n",
    "全眼的像差，是最终对视网膜产生影响的原因。那么使用佩戴OK镜之前、或者佩戴短期后的像差数据，是否可能预测出远期的眼轴长或者是屈光状态呢？\n",
    "\n",
    "## 已知的缺陷\n",
    "\n",
    "全眼像差受到多方面的影响：\n",
    "\n",
    "* 瞳孔大小；\n",
    "* 调节状态；\n",
    "* 测量时间，OK镜佩戴后，白天的角膜形态是否会逐渐变化，导致像差随着时间改变。\n",
    "\n"
   ]
  },
  {
   "cell_type": "markdown",
   "metadata": {},
   "source": [
    "# 数据\n",
    "\n",
    "来自于[Predictive factors associated with axial length growth and myopia progression in orthokeratology ](https://www.ncbi.nlm.nih.gov/pmc/articles/PMC6561598/ )\n",
    "\n",
    "该文献带有excel数据，共有7个sheet，分别是：\n",
    "\n",
    "* age, sex, visual acuity：年龄，性别，视力，其中视力用LogMAR，包含了未矫正和最佳矫正视力。\n",
    "* AXL：眼轴长，用IOL master测量了中央，鼻侧30度，颞侧30度\n",
    "  >AXL measurement with IOLMaster (Carl Zeiss, Jena, Germany) in central, N30, and T30 gazes\n",
    "* CR：散瞳验光，用WAM-5500测量了中央，鼻侧30度，颞侧30度\n",
    "  >cycloplegic refraction; autorefraction (WAM-5500; Shigiya Machinery Works Ltd., Hiroshima, Japan) in central, 30° nasal (N30), and 30° temporal (T30) gazes under cycloplegia\n",
    "* MR：\n",
    "  >manifested refraction\n",
    "* specular microscopy：不知为何，测量了角膜内皮细胞计数。\n",
    "  >evaluation of the corneal endothelium via noncontact specular microscopy (SP-8000; Konan Medical, Nishinomiya, Japan). \n",
    "* aberrometer：像差，给了高阶的Zernike系数。\n",
    "  >wavefront assessment for a 6-mm pupil using a WASCA aberrometer (Carl Zeiss, Jena, Germany) following pupil dilation using a mixture of 0.5% phenylephrine and 0.5% tropicamide (Mydrin-P; Santen Pharmaceutical, Osaka, Japan)\n",
    "* pentacam：角膜地形图。\n",
    "  很遗憾，这里面不是raw data，只有Pre和12mo的K1, K2\n",
    "* orbscan II：角膜地形图。\n",
    "  也不是角膜地形图的原始数据，但除了Kmin, Kmax,还有Central corneal thickness, 3-mm-zone irregularity, 5-mm-zone irregularity"
   ]
  },
  {
   "cell_type": "code",
   "execution_count": 1,
   "metadata": {},
   "outputs": [],
   "source": [
    "import numpy as np\n",
    "import pandas as pd\n",
    "import matplotlib.pyplot as plt\n",
    "import seaborn as sns\n",
    "from functools import reduce\n",
    "from sklearn.model_selection import ShuffleSplit\n",
    "from sklearn.ensemble import RandomForestRegressor\n",
    "\n",
    "import os\n",
    "\n",
    "%matplotlib inline"
   ]
  },
  {
   "cell_type": "markdown",
   "metadata": {},
   "source": [
    "## 数据清洗\n",
    "\n",
    "读取数据"
   ]
  },
  {
   "cell_type": "code",
   "execution_count": 2,
   "metadata": {},
   "outputs": [],
   "source": [
    "data_file=os.path.join('data',\"pone.0218140.s001.xlsx\")\n",
    "\n",
    "patient_info=pd.read_excel(data_file,sheet_name=\"age, sex, visual acuity\")\n",
    "AXL=pd.read_excel(data_file,sheet_name=\"AXL\")\n",
    "CR=pd.read_excel(data_file,sheet_name=\"CR \")\n",
    "\n",
    "# 以下两个sheet中，顶部有Pre，12mo一行，\n",
    "# 略去，使得每一行与其他表格中的行位置相等。\n",
    "aberrometer=pd.read_excel(data_file,sheet_name=\"aberrometer\",header=1) \n",
    "cornea=pd.read_excel(data_file,sheet_name=\"orbscan II\",header=1) \n",
    "data_frames=[patient_info,AXL,CR,aberrometer,cornea]"
   ]
  },
  {
   "cell_type": "markdown",
   "metadata": {},
   "source": [
    "并不是所有的人都测量了所有的参数，所以将Patient ID和眼别整合到一起，形成一个新的eyeID。\n",
    "然后合并数据"
   ]
  },
  {
   "cell_type": "code",
   "execution_count": 3,
   "metadata": {},
   "outputs": [],
   "source": [
    "def clean_data(d):\n",
    "    d.fillna(method='ffill',inplace = True)\n",
    "    d[\"eyeID\"]=d[\"Patient\"]+\" \"+d['OD1, OS2'].map(str)\n",
    "    d.drop([\"Patient\",'OD1, OS2'],axis=1,inplace=True)\n",
    "    d.rename(columns={'Sex (male = 1, female = 2': 'sex'},inplace=True)\n",
    "    d=d.where(d.eyeID.apply(lambda x: x.startswith(\"#\"))).dropna()\n",
    "    d=d.replace('*NA', np.nan).dropna() # 删除所有的*NA数据，这句话好难找\n",
    "\n",
    "    return d"
   ]
  },
  {
   "cell_type": "code",
   "execution_count": 4,
   "metadata": {},
   "outputs": [],
   "source": [
    "# drive me crazy, I don't know why I cant use for loop\n",
    "patient_info=clean_data(patient_info)\n",
    "AXL=clean_data(AXL)\n",
    "CR=clean_data(CR)\n",
    "aberrometer=clean_data(aberrometer)\n",
    "cornea=clean_data(cornea)\n",
    "\n",
    "\n",
    "df = reduce(lambda left,right: pd.merge(left,right,on='eyeID'), data_frames)\n",
    "df = df.replace(\"*NA\",np.nan).dropna()\n"
   ]
  },
  {
   "cell_type": "markdown",
   "metadata": {},
   "source": [
    "将数据分成两部分，（务必要注意是否有数据泄露）\n",
    "\n",
    "* X：从这些数据可能推导出结果，我估计会有术前的数据，一部分术后的数据。\n",
    "    * patient_info中：``` ['Age','Sex (male = 1, female = 2']```\n",
    "    * AXL：```['Pre C AXL', 'Pre N AXL', 'Pre T AXL'] ```\n",
    "    * CR：\n",
    "      ```python\n",
    "         ['Pre AR C Sph', 'Pre AR C cyl',\\\n",
    "          'Pre AR N Sph', 'Pre AR N cyl',\\\n",
    "          'Pre AR T Sph', 'Pre AR T cyl']  \n",
    "       ```\n",
    "    * aberrometer:\n",
    "        * Pre和12mo （犹豫，不知道是否有数据泄露）\n",
    "    * cornea：\n",
    "        * Pre和12mo\n",
    "* Y：\n",
    "    * AXL：12mo的C，N，T，以及delta，其中delta 12mo C AXL是最重要的数据。"
   ]
  },
  {
   "cell_type": "code",
   "execution_count": 5,
   "metadata": {},
   "outputs": [],
   "source": [
    "df_x=df[[\n",
    "        # 基本信息\n",
    "        'sex', 'Age',\n",
    "        # 术前眼轴长\n",
    "        'Pre C AXL', 'Pre N AXL', 'Pre T AXL',\n",
    "        # 术前验光\n",
    "        'Pre AR C Sph', 'Pre AR C cyl',\n",
    "        'Pre AR N Sph', 'Pre AR N cyl',\n",
    "        'Pre AR T Sph', 'Pre AR T cyl',\n",
    "        # 术前像差\n",
    "        'C2−2', 'C20', 'C22', 'C3−3', 'C3−1', 'C31', \n",
    "        'C33', 'C4−4', 'C4−2', 'C40', 'C42', 'C44',\n",
    "        # 术后像差\n",
    "        'C2−2.1','C20.1', 'C22.1', \n",
    "        'C3−3.1', 'C3−1.1', 'C31.1','C33.1', \n",
    "        'C4−4.1','C4−2.1', 'C40.1', 'C42.1', 'C44.1',\n",
    "        # 术前角膜地形图\n",
    "       \"Sim K's astigmatism\", 'Kmax',\n",
    "       'Kmin', 'Central corneal thickness', '3-mm-zone irregularity',\n",
    "       '5-mm-zone irregularity', 'pupil diameter', 'white-to-white',\n",
    "       'anterior chamber depth', \n",
    "        # 术后角膜地形图\n",
    "       \"Sim K's astigmatism.1\", 'Kmax.1', 'Kmin.1',\n",
    "       'Central corneal thickness.1', '3-mm-zone irregularity.1',\n",
    "       '5-mm-zone irregularity.1', 'pupil diameter.1', 'white-to-white.1',\n",
    "       'anterior chamber depth.1', \n",
    "        ]]\n",
    "df_y_candidate=df[['12mo C AXL', '12mo N AXL','12mo T AXL',\n",
    "         'delta C_12mo', 'delta N_12mo','delta T_12mo',\n",
    "        ]]\n"
   ]
  },
  {
   "cell_type": "markdown",
   "metadata": {},
   "source": [
    "看看12月时，眼轴变化量的分布"
   ]
  },
  {
   "cell_type": "code",
   "execution_count": 6,
   "metadata": {},
   "outputs": [
    {
     "data": {
      "text/plain": [
       "<matplotlib.axes._subplots.AxesSubplot at 0x1a24f86978>"
      ]
     },
     "execution_count": 6,
     "metadata": {},
     "output_type": "execute_result"
    },
    {
     "data": {
      "image/png": "[encoded data removed]",
      "text/plain": [
       "<Figure size 432x288 with 1 Axes>"
      ]
     },
     "metadata": {
      "needs_background": "light"
     },
     "output_type": "display_data"
    }
   ],
   "source": [
    "sns.violinplot(data=df_y_candidate[['delta C_12mo','delta N_12mo', 'delta T_12mo']], inner=\"points\")"
   ]
  },
  {
   "cell_type": "markdown",
   "metadata": {},
   "source": [
    "# 建模拟合\n",
    "\n",
    "## 分割数据集\n",
    "数据量有点少啊！只有17个可用的数据。凑合用吧。\n",
    "\n",
    "先按照3:1的比例分割数据集，将数据集分成train和test。"
   ]
  },
  {
   "cell_type": "code",
   "execution_count": 7,
   "metadata": {},
   "outputs": [
    {
     "name": "stdout",
     "output_type": "stream",
     "text": [
      "TRAIN: [ 2 16 12  1 15  9  8  6  7  3 11  5] TEST: [13  0  4 10 14]\n"
     ]
    }
   ],
   "source": [
    "rs=ShuffleSplit(n_splits=1, test_size=0.25)#, random_state=3)\n",
    "for train_index, test_index in rs.split(df_x):\n",
    "    print(\"TRAIN:\", train_index, \"TEST:\", test_index)"
   ]
  },
  {
   "cell_type": "code",
   "execution_count": 8,
   "metadata": {},
   "outputs": [],
   "source": [
    "target=3 # 暂时只先定一个拟合目标。\n",
    "X_train=df_x.iloc[train_index,:]\n",
    "y_train=df_y_candidate.iloc[train_index,target]\n",
    "X_test=df_x.iloc[test_index,:]\n",
    "y_test=df_y_candidate.iloc[test_index,target]"
   ]
  },
  {
   "cell_type": "markdown",
   "metadata": {},
   "source": [
    "## 建立模型"
   ]
  },
  {
   "cell_type": "markdown",
   "metadata": {},
   "source": [
    "## 线性拟合"
   ]
  },
  {
   "cell_type": "code",
   "execution_count": 9,
   "metadata": {},
   "outputs": [
    {
     "name": "stdout",
     "output_type": "stream",
     "text": [
      "R-squared score (training): 1.000\n",
      "R-squared score (test): -1.776\n"
     ]
    }
   ],
   "source": [
    "from sklearn.linear_model import LinearRegression\n",
    "model=LinearRegression().fit(X_train,y_train)\n",
    "\n",
    "print('R-squared score (training): {:.3f}'\n",
    "     .format(model.score(X_train, y_train)))\n",
    "print('R-squared score (test): {:.3f}'\n",
    "     .format(model.score(X_test, y_test)))"
   ]
  },
  {
   "cell_type": "markdown",
   "metadata": {},
   "source": [
    "## 随机森林拟合"
   ]
  },
  {
   "cell_type": "code",
   "execution_count": 10,
   "metadata": {},
   "outputs": [
    {
     "name": "stdout",
     "output_type": "stream",
     "text": [
      "R-squared score (training): 0.753\n",
      "R-squared score (test): -1.857\n"
     ]
    },
    {
     "name": "stderr",
     "output_type": "stream",
     "text": [
      "/Users/goldengrape/anaconda3/envs/blog/lib/python3.6/site-packages/sklearn/ensemble/forest.py:245: FutureWarning: The default value of n_estimators will change from 10 in version 0.20 to 100 in 0.22.\n",
      "  \"10 in version 0.20 to 100 in 0.22.\", FutureWarning)\n"
     ]
    }
   ],
   "source": [
    "from sklearn.ensemble import RandomForestRegressor\n",
    "model=RandomForestRegressor().fit(X_train,y_train)\n",
    "print('R-squared score (training): {:.3f}'\n",
    "     .format(model.score(X_train, y_train)))\n",
    "print('R-squared score (test): {:.3f}'\n",
    "     .format(model.score(X_test, y_test)))"
   ]
  },
  {
   "cell_type": "markdown",
   "metadata": {},
   "source": [
    "### 随机森林分类"
   ]
  },
  {
   "cell_type": "code",
   "execution_count": 11,
   "metadata": {},
   "outputs": [
    {
     "name": "stdout",
     "output_type": "stream",
     "text": [
      "R-squared score (training): 1.000\n",
      "R-squared score (test): 0.600\n"
     ]
    },
    {
     "name": "stderr",
     "output_type": "stream",
     "text": [
      "/Users/goldengrape/anaconda3/envs/blog/lib/python3.6/site-packages/sklearn/ensemble/forest.py:245: FutureWarning: The default value of n_estimators will change from 10 in version 0.20 to 100 in 0.22.\n",
      "  \"10 in version 0.20 to 100 in 0.22.\", FutureWarning)\n"
     ]
    }
   ],
   "source": [
    "from sklearn.ensemble import RandomForestClassifier\n",
    "\n",
    "threshold=0.2 # 设定眼轴增长的分界阈值\n",
    "\n",
    "model=RandomForestClassifier().fit(X_train,y_train>threshold)\n",
    "print('R-squared score (training): {:.3f}'\n",
    "     .format(model.score(X_train, y_train>threshold)))\n",
    "print('R-squared score (test): {:.3f}'\n",
    "     .format(model.score(X_test, y_test>threshold)))\n",
    "\n",
    "# print(y_train>threshold)\n",
    "# print(y_test>threshold)"
   ]
  },
  {
   "cell_type": "code",
   "execution_count": 12,
   "metadata": {},
   "outputs": [],
   "source": [
    "predict_y_validation = model.predict(X_test)#直接给出预测结果，每个点在所有label的概率和为1，内部还是调用predict——proba()\n",
    "# print(predict_y_validation)\n",
    "prob_predict_y_validation = model.predict_proba(X_test)#给出带有概率值的结果，每个点所有label的概率和为1\n",
    "predictions_validation = prob_predict_y_validation[:, 1]"
   ]
  },
  {
   "cell_type": "code",
   "execution_count": 13,
   "metadata": {},
   "outputs": [
    {
     "name": "stdout",
     "output_type": "stream",
     "text": [
      "[True, False, True, True, True] [False False  True  True False]\n"
     ]
    }
   ],
   "source": [
    "print(list(y_test>threshold), predict_y_validation)"
   ]
  },
  {
   "cell_type": "code",
   "execution_count": 14,
   "metadata": {},
   "outputs": [
    {
     "name": "stdout",
     "output_type": "stream",
     "text": [
      "AUC = 1.00\n"
     ]
    },
    {
     "data": {
      "image/png": "[encoded data removed]",
      "text/plain": [
       "<Figure size 432x288 with 1 Axes>"
      ]
     },
     "metadata": {
      "needs_background": "light"
     },
     "output_type": "display_data"
    }
   ],
   "source": [
    "from sklearn.metrics import roc_curve, auc\n",
    "\n",
    "fpr, tpr, _ = roc_curve(y_test>threshold, predictions_validation)\n",
    "\n",
    "roc_auc = auc(fpr, tpr)\n",
    "plt.title('ROC Validation')\n",
    "plt.xlim([0, 1])\n",
    "plt.ylim([0, 1])\n",
    "plt.plot(fpr, tpr, 'b', label='AUC = %0.2f' % roc_auc)\n",
    "plt.legend(loc='lower right')\n",
    "plt.plot([0, 1], [0, 1], 'r--')\n",
    "\n",
    "print(\"AUC = %0.2f\" % roc_auc)"
   ]
  },
  {
   "cell_type": "markdown",
   "metadata": {},
   "source": [
    "## Logistic回归\n",
    "\n",
    "https://scikit-learn.org/stable/modules/generated/sklearn.linear_model.LogisticRegression.html"
   ]
  },
  {
   "cell_type": "code",
   "execution_count": 15,
   "metadata": {},
   "outputs": [],
   "source": [
    "# from sklearn.linear_model import LogisticRegression\n",
    "# model=LogisticRegression().fit(X_train,y_train)\n",
    "# print('R-squared score (training): {:.3f}'\n",
    "#      .format(model.score(X_train, y_train)))\n",
    "# print('R-squared score (test): {:.3f}'\n",
    "#      .format(model.score(X_test, y_test)))"
   ]
  },
  {
   "cell_type": "code",
   "execution_count": null,
   "metadata": {},
   "outputs": [],
   "source": []
  }
 ],
 "metadata": {
  "kernelspec": {
   "display_name": "Python 3",
   "language": "python",
   "name": "python3"
  },
  "language_info": {
   "codemirror_mode": {
    "name": "ipython",
    "version": 3
   },
   "file_extension": ".py",
   "mimetype": "text/x-python",
   "name": "python",
   "nbconvert_exporter": "python",
   "pygments_lexer": "ipython3",
   "version": "3.6.8"
  }
 },
 "nbformat": 4,
 "nbformat_minor": 4
}
